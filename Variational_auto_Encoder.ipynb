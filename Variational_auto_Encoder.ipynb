{
  "nbformat": 4,
  "nbformat_minor": 0,
  "metadata": {
    "colab": {
      "provenance": []
    },
    "kernelspec": {
      "name": "python3",
      "display_name": "Python 3"
    },
    "language_info": {
      "name": "python"
    }
  },
  "cells": [
    {
      "cell_type": "code",
      "execution_count": null,
      "metadata": {
        "id": "KBjuNna3Ykjk"
      },
      "outputs": [],
      "source": [
        "import os\n",
        "import torch\n",
        "import torch.nn as nn\n",
        "import torch.nn.functional as F\n",
        "from torch.utils.data import DataLoader\n",
        "from torchvision import datasets, transforms\n",
        "from torchvision.utils import save_image\n"
      ]
    },
    {
      "cell_type": "code",
      "source": [
        "\n",
        "# -----------------------------\n",
        "# 1. Hyperparameters\n",
        "# -----------------------------\n",
        "image_size = 128   # resize Cube+ images to 128x128\n",
        "batch_size = 32\n",
        "latent_dim = 128\n",
        "epochs = 30\n",
        "lr = 1e-3\n",
        "device = torch.device(\"cuda\" if torch.cuda.is_available() else \"cpu\")\n"
      ],
      "metadata": {
        "id": "T8NKDhqiYyUn"
      },
      "execution_count": null,
      "outputs": []
    },
    {
      "cell_type": "code",
      "source": [
        "\n",
        "# -----------------------------\n",
        "# 2. Dataset Loader (Cube+)\n",
        "# -----------------------------\n",
        "# Put Cube+ dataset images inside: ./data/cube_plus/\n",
        "transform = transforms.Compose([\n",
        "    transforms.Resize((image_size, image_size)),\n",
        "    transforms.ToTensor()\n",
        "])\n",
        "\n",
        "dataset = datasets.ImageFolder(root=\"./data/cube_plus/\", transform=transform)\n",
        "dataloader = DataLoader(dataset, batch_size=batch_size, shuffle=True)\n"
      ],
      "metadata": {
        "id": "Ylc0ZosEYy1U"
      },
      "execution_count": null,
      "outputs": []
    },
    {
      "cell_type": "code",
      "source": [
        "\n",
        "# -----------------------------\n",
        "# 3. VAE Model\n",
        "# -----------------------------\n",
        "class VAE(nn.Module):\n",
        "    def __init__(self, latent_dim):\n",
        "        super(VAE, self).__init__()\n",
        "        # Encoder\n",
        "        self.enc_conv = nn.Sequential(\n",
        "            nn.Conv2d(3, 32, 4, 2, 1),  # [B, 32, 64, 64]\n",
        "            nn.ReLU(),\n",
        "            nn.Conv2d(32, 64, 4, 2, 1), # [B, 64, 32, 32]\n",
        "            nn.ReLU(),\n",
        "            nn.Conv2d(64, 128, 4, 2, 1), # [B, 128, 16, 16]\n",
        "            nn.ReLU(),\n",
        "            nn.Conv2d(128, 256, 4, 2, 1), # [B, 256, 8, 8]\n",
        "            nn.ReLU(),\n",
        "        )\n",
        "        self.fc_mu = nn.Linear(256 * 8 * 8, latent_dim)\n",
        "        self.fc_logvar = nn.Linear(256 * 8 * 8, latent_dim)\n",
        "\n",
        "        # Decoder\n",
        "        self.fc_decode = nn.Linear(latent_dim, 256 * 8 * 8)\n",
        "        self.dec_conv = nn.Sequential(\n",
        "            nn.ConvTranspose2d(256, 128, 4, 2, 1), # [B, 128, 16, 16]\n",
        "            nn.ReLU(),\n",
        "            nn.ConvTranspose2d(128, 64, 4, 2, 1), # [B, 64, 32, 32]\n",
        "            nn.ReLU(),\n",
        "            nn.ConvTranspose2d(64, 32, 4, 2, 1), # [B, 32, 64, 64]\n",
        "            nn.ReLU(),\n",
        "            nn.ConvTranspose2d(32, 3, 4, 2, 1),  # [B, 3, 128, 128]\n",
        "            nn.Sigmoid()\n",
        "        )\n",
        "\n",
        "    def encode(self, x):\n",
        "        h = self.enc_conv(x)\n",
        "        h = h.view(h.size(0), -1)\n",
        "        mu = self.fc_mu(h)\n",
        "        logvar = self.fc_logvar(h)\n",
        "        return mu, logvar\n",
        "\n",
        "    def reparameterize(self, mu, logvar):\n",
        "        std = torch.exp(0.5 * logvar)\n",
        "        eps = torch.randn_like(std)\n",
        "        return mu + eps * std\n",
        "\n",
        "    def decode(self, z):\n",
        "        h = self.fc_decode(z)\n",
        "        h = h.view(-1, 256, 8, 8)\n",
        "        return self.dec_conv(h)\n",
        "\n",
        "    def forward(self, x):\n",
        "        mu, logvar = self.encode(x)\n",
        "        z = self.reparameterize(mu, logvar)\n",
        "        return self.decode(z), mu, logvar"
      ],
      "metadata": {
        "id": "47EgMlQ6Yy8n"
      },
      "execution_count": null,
      "outputs": []
    },
    {
      "cell_type": "code",
      "source": [
        "# -----------------------------\n",
        "# 4. Loss Function\n",
        "# -----------------------------\n",
        "def loss_function(recon_x, x, mu, logvar):\n",
        "    recon_loss = F.mse_loss(recon_x, x, reduction='sum')  # reconstruction\n",
        "    kl_loss = -0.5 * torch.sum(1 + logvar - mu.pow(2) - logvar.exp())\n",
        "    return recon_loss + kl_loss"
      ],
      "metadata": {
        "id": "E_4P3kGHYzEX"
      },
      "execution_count": null,
      "outputs": []
    },
    {
      "cell_type": "code",
      "source": [
        "# -----------------------------\n",
        "# 5. Training\n",
        "# -----------------------------\n",
        "vae = VAE(latent_dim).to(device)\n",
        "optimizer = torch.optim.Adam(vae.parameters(), lr=lr)\n",
        "\n",
        "for epoch in range(epochs):\n",
        "    vae.train()\n",
        "    train_loss = 0\n",
        "    for imgs, _ in dataloader:\n",
        "        imgs = imgs.to(device)\n",
        "        optimizer.zero_grad()\n",
        "        recon, mu, logvar = vae(imgs)\n",
        "        loss = loss_function(recon, imgs, mu, logvar)\n",
        "        loss.backward()\n",
        "        train_loss += loss.item()\n",
        "        optimizer.step()\n",
        "    print(f\"Epoch [{epoch+1}/{epochs}], Loss: {train_loss/len(dataloader.dataset):.4f}\")\n",
        "    # Save some reconstructions\n",
        "    if (epoch+1) % 5 == 0:\n",
        "        save_image(recon[:8].cpu(), f\"recon_epoch{epoch+1}.png\")\n",
        "        save_image(imgs[:8].cpu(), f\"original_epoch{epoch+1}.png\")"
      ],
      "metadata": {
        "id": "KraWY47yY_jA"
      },
      "execution_count": null,
      "outputs": []
    },
    {
      "cell_type": "code",
      "source": [
        "# -----------------------------\n",
        "# 6. Save model\n",
        "# -----------------------------\n",
        "torch.save(vae.state_dict(), \"vae_cubeplus.pth\")\n"
      ],
      "metadata": {
        "id": "JgeYQmGOYrA8"
      },
      "execution_count": null,
      "outputs": []
    }
  ]
}